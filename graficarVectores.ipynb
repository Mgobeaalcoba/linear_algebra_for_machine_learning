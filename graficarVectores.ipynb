{
  "nbformat": 4,
  "nbformat_minor": 0,
  "metadata": {
    "colab": {
      "provenance": [],
      "authorship_tag": "ABX9TyOYZItTP2ur5xvl/7gFcKp+",
      "include_colab_link": true
    },
    "kernelspec": {
      "name": "python3",
      "display_name": "Python 3"
    },
    "language_info": {
      "name": "python"
    }
  },
  "cells": [
    {
      "cell_type": "markdown",
      "metadata": {
        "id": "view-in-github",
        "colab_type": "text"
      },
      "source": [
        "<a href=\"https://colab.research.google.com/github/Mgobeaalcoba/linear_algebra_for_machine_learning/blob/main/graficarVectores.ipynb\" target=\"_parent\"><img src=\"https://colab.research.google.com/assets/colab-badge.svg\" alt=\"Open In Colab\"/></a>"
      ]
    },
    {
      "cell_type": "code",
      "metadata": {
        "id": "jYkSDVWEbrf2"
      },
      "source": [
        "import numpy as np\n",
        "import matplotlib.pyplot as plt"
      ],
      "execution_count": 1,
      "outputs": []
    },
    {
      "cell_type": "code",
      "metadata": {
        "id": "68TcK1zIcqVi"
      },
      "source": [
        "def graficar_vectores(vecs,cols,alpha=1):\n",
        "  plt.figure()\n",
        "  plt.axvline(x=0,color=\"grey\",zorder=0)\n",
        "  plt.axhline(y=0,color=\"grey\",zorder=0)\n",
        "\n",
        "  for i in range(len(vecs)):\n",
        "    x = np.concatenate([[0,0], vecs[i]])\n",
        "    plt.quiver([x[0]],\n",
        "               [x[1]],\n",
        "               [x[2]],\n",
        "               [x[3]],\n",
        "               angles= \"xy\", scale_units=\"xy\",scale=1,\n",
        "                color=cols[i],\n",
        "               alpha = alpha)"
      ],
      "execution_count": 2,
      "outputs": []
    },
    {
      "cell_type": "code",
      "source": [
        "def graficarVectores(vecs,cols,alpha=1):\n",
        "  plt.figure()\n",
        "  plt.axvline(x=0,color=\"grey\",zorder=0)\n",
        "  plt.axhline(y=0,color=\"grey\",zorder=0)\n",
        "\n",
        "  for i in range(len(vecs)):\n",
        "    x = np.concatenate([[0,0], vecs[i]])\n",
        "    plt.quiver([x[0]],\n",
        "               [x[1]],\n",
        "               [x[2]],\n",
        "               [x[3]],\n",
        "               angles= \"xy\", scale_units=\"xy\",scale=1,\n",
        "                color=cols[i],\n",
        "               alpha = alpha)"
      ],
      "metadata": {
        "id": "JQ0HtqeqEwRS"
      },
      "execution_count": 3,
      "outputs": []
    }
  ]
}