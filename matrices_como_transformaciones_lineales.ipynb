{
  "nbformat": 4,
  "nbformat_minor": 0,
  "metadata": {
    "colab": {
      "provenance": [],
      "authorship_tag": "ABX9TyP0rdvJ2u74ZDmwocoFtCu5",
      "include_colab_link": true
    },
    "kernelspec": {
      "name": "python3",
      "display_name": "Python 3"
    },
    "language_info": {
      "name": "python"
    }
  },
  "cells": [
    {
      "cell_type": "markdown",
      "metadata": {
        "id": "view-in-github",
        "colab_type": "text"
      },
      "source": [
        "<a href=\"https://colab.research.google.com/github/Mgobeaalcoba/linear_algebra_for_machine_learning/blob/main/matrices_como_transformaciones_lineales.ipynb\" target=\"_parent\"><img src=\"https://colab.research.google.com/assets/colab-badge.svg\" alt=\"Open In Colab\"/></a>"
      ]
    },
    {
      "cell_type": "markdown",
      "source": [
        "# Podemos y debemos pensar las matrices como transformaciones lineales."
      ],
      "metadata": {
        "id": "cyms1jKUljsq"
      }
    },
    {
      "cell_type": "code",
      "source": [
        "# @title Set libraries\n",
        "%matplotlib inline\n",
        "\n",
        "import numpy as np\n",
        "import matplotlib.pyplot as plt"
      ],
      "metadata": {
        "id": "2sIpICMUlqXT"
      },
      "execution_count": 2,
      "outputs": []
    },
    {
      "cell_type": "code",
      "source": [
        "# @title Set 1° matrix\n",
        "A = np.array([[-1,3], [2,-2]])\n",
        "A"
      ],
      "metadata": {
        "colab": {
          "base_uri": "https://localhost:8080/"
        },
        "id": "Dsabkf1wl7Ng",
        "outputId": "91fbe47f-62a2-467d-d14f-557ae1586e58"
      },
      "execution_count": 6,
      "outputs": [
        {
          "output_type": "execute_result",
          "data": {
            "text/plain": [
              "array([[-1,  3],\n",
              "       [ 2, -2]])"
            ]
          },
          "metadata": {},
          "execution_count": 6
        }
      ]
    },
    {
      "cell_type": "code",
      "source": [
        "# @title Set 1° vector\n",
        "vector = np.array([[2],[1]])\n",
        "vector"
      ],
      "metadata": {
        "colab": {
          "base_uri": "https://localhost:8080/"
        },
        "id": "0TeWj0KjmEIU",
        "outputId": "93cc1cb5-1536-48a0-947d-6610f15c09ad"
      },
      "execution_count": 9,
      "outputs": [
        {
          "output_type": "execute_result",
          "data": {
            "text/plain": [
              "array([[2],\n",
              "       [1]])"
            ]
          },
          "metadata": {},
          "execution_count": 9
        }
      ]
    },
    {
      "cell_type": "code",
      "source": [
        "# @title Set 1° auxiliar function\n",
        "def graficar_vectores(vecs, cols, alpha=1):\n",
        "\n",
        "  plt.axvline(x=0,\n",
        "              color=\"grey\",\n",
        "              zorder=0)\n",
        "\n",
        "  plt.axhline(y=0,\n",
        "              color=\"grey\",\n",
        "              zorder=0)\n",
        "\n",
        "  for i in range(len(vecs)):\n",
        "    x = np.concatenate([[0,0], vecs[i]])\n",
        "    plt.quiver([x[0]],\n",
        "               [x[1]],\n",
        "               [x[2]],\n",
        "               [x[3]],\n",
        "               angles='xy',\n",
        "               scale_units='xy',\n",
        "               color=cols[i],\n",
        "               scale=1,\n",
        "               alpha= alpha\n",
        "               )"
      ],
      "metadata": {
        "id": "hN65hOOUmO7K"
      },
      "execution_count": 19,
      "outputs": []
    },
    {
      "cell_type": "code",
      "source": [
        "# @title Dos formas de imprimir un vector (como fue creado y en tira unica o flatten)\n",
        "print(vector)\n",
        "print(vector.flatten())"
      ],
      "metadata": {
        "colab": {
          "base_uri": "https://localhost:8080/"
        },
        "id": "L3CVn2Fan7bb",
        "outputId": "d366fe46-0ecd-4d64-ab2a-79cc2ae1f7c2"
      },
      "execution_count": 11,
      "outputs": [
        {
          "output_type": "stream",
          "name": "stdout",
          "text": [
            "[[2]\n",
            " [1]]\n",
            "[2 1]\n"
          ]
        }
      ]
    },
    {
      "cell_type": "markdown",
      "source": [
        "##### ¿Por que nos interesa esto?\n",
        "\n",
        "Cuando trabajemos con imagenes, las mismas serán matrices para nosotros. Pero cuando se las pasemos a un algoritmo de deep learning, se la tenemos que enviar flatten mientras a nosotros nos conviene seguir trabajandolas como matrices."
      ],
      "metadata": {
        "id": "fJhzvn-OoQ4G"
      }
    },
    {
      "cell_type": "code",
      "source": [
        "print(A)\n",
        "print(A.flatten())"
      ],
      "metadata": {
        "colab": {
          "base_uri": "https://localhost:8080/"
        },
        "id": "qJGCYj2SojlM",
        "outputId": "246bddbe-3620-474c-931b-79957537c69c"
      },
      "execution_count": 12,
      "outputs": [
        {
          "output_type": "stream",
          "name": "stdout",
          "text": [
            "[[-1  3]\n",
            " [ 2 -2]]\n",
            "[-1  3  2 -2]\n"
          ]
        }
      ]
    },
    {
      "cell_type": "code",
      "source": [
        "graficar_vectores([vector.flatten()], cols=\"blue\")\n",
        "\n",
        "plt.xlim(-0.5, 3)\n",
        "plt.ylim(-0.5, 2)"
      ],
      "metadata": {
        "colab": {
          "base_uri": "https://localhost:8080/",
          "height": 452
        },
        "id": "6hGTN3JNos5F",
        "outputId": "076dd608-1e4e-4503-bba5-a2988b046d21"
      },
      "execution_count": 20,
      "outputs": [
        {
          "output_type": "execute_result",
          "data": {
            "text/plain": [
              "(-0.5, 2.0)"
            ]
          },
          "metadata": {},
          "execution_count": 20
        },
        {
          "output_type": "display_data",
          "data": {
            "text/plain": [
              "<Figure size 640x480 with 1 Axes>"
            ],
            "image/png": "[encoded data removed]"
          },
          "metadata": {}
        }
      ]
    },
    {
      "cell_type": "markdown",
      "source": [
        "# ¿Como vemos ahora cual es la transformación lineal?"
      ],
      "metadata": {
        "id": "l_HyDf-tqV-C"
      }
    },
    {
      "cell_type": "code",
      "source": [
        "# @title Calculo el producto interno de nuestra matriz A aplicada a nuestro vector\n",
        "vector_transformado = A.dot(vector)\n",
        "vector_transformado"
      ],
      "metadata": {
        "colab": {
          "base_uri": "https://localhost:8080/"
        },
        "id": "bDwBPQ8qqatQ",
        "outputId": "c9f92fff-a9e9-4341-9bf1-db30926445f9"
      },
      "execution_count": 22,
      "outputs": [
        {
          "output_type": "execute_result",
          "data": {
            "text/plain": [
              "array([[1],\n",
              "       [2]])"
            ]
          },
          "metadata": {},
          "execution_count": 22
        }
      ]
    },
    {
      "cell_type": "code",
      "source": [
        "print(vector_transformado)\n",
        "print(vector_transformado.flatten())"
      ],
      "metadata": {
        "colab": {
          "base_uri": "https://localhost:8080/"
        },
        "id": "gYXgcfKbqsbO",
        "outputId": "618d429c-505d-492e-be07-c984762743aa"
      },
      "execution_count": 23,
      "outputs": [
        {
          "output_type": "stream",
          "name": "stdout",
          "text": [
            "[[1]\n",
            " [2]]\n",
            "[1 2]\n"
          ]
        }
      ]
    },
    {
      "cell_type": "code",
      "source": [
        "graficar_vectores([vector_transformado.flatten()], cols=\"red\")\n",
        "graficar_vectores([vector.flatten()], cols=\"blue\")\n",
        "\n",
        "plt.xlim(-0.5, 3)\n",
        "plt.ylim(-0.5, 2)"
      ],
      "metadata": {
        "colab": {
          "base_uri": "https://localhost:8080/",
          "height": 452
        },
        "id": "n9fEP7-rqzLI",
        "outputId": "a90957c4-a594-4d31-ee02-811ee0f0c95f"
      },
      "execution_count": 26,
      "outputs": [
        {
          "output_type": "execute_result",
          "data": {
            "text/plain": [
              "(-0.5, 2.0)"
            ]
          },
          "metadata": {},
          "execution_count": 26
        },
        {
          "output_type": "display_data",
          "data": {
            "text/plain": [
              "<Figure size 640x480 with 1 Axes>"
            ],
            "image/png": "[encoded data removed]"
          },
          "metadata": {}
        }
      ]
    },
    {
      "cell_type": "markdown",
      "source": [
        "**Vemos visualmente que teniamos el vector 2,1 y lo transformamos aplicandole la matriz A en un vector 1,2**"
      ],
      "metadata": {
        "id": "nsiNEVGFrFZd"
      }
    },
    {
      "cell_type": "code",
      "source": [],
      "metadata": {
        "id": "nBR9SRlPrN2g"
      },
      "execution_count": null,
      "outputs": []
    }
  ]
}