{
  "nbformat": 4,
  "nbformat_minor": 0,
  "metadata": {
    "colab": {
      "provenance": [],
      "mount_file_id": "1DBENwTWSafWlbMLiU0oPtqaFMMpYbQEU",
      "authorship_tag": "ABX9TyMrpXzdb4jzT7yuUN8Hcl89",
      "include_colab_link": true
    },
    "kernelspec": {
      "name": "python3",
      "display_name": "Python 3"
    },
    "language_info": {
      "name": "python"
    }
  },
  "cells": [
    {
      "cell_type": "markdown",
      "metadata": {
        "id": "view-in-github",
        "colab_type": "text"
      },
      "source": [
        "<a href=\"https://colab.research.google.com/github/Mgobeaalcoba/linear_algebra_for_machine_learning/blob/main/autovalores_y_autovectores.ipynb\" target=\"_parent\"><img src=\"https://colab.research.google.com/assets/colab-badge.svg\" alt=\"Open In Colab\"/></a>"
      ]
    },
    {
      "cell_type": "markdown",
      "source": [
        "# Material obligatorio"
      ],
      "metadata": {
        "id": "z8oz2OatOb88"
      }
    },
    {
      "cell_type": "code",
      "execution_count": 6,
      "metadata": {
        "id": "WWaA5FvKJw-y"
      },
      "outputs": [],
      "source": [
        "# title Import libraries\n",
        "%matplotlib inline\n",
        "\n",
        "import numpy as np\n",
        "import matplotlib.pyplot as plt"
      ]
    },
    {
      "cell_type": "code",
      "source": [
        "# @title Connect to Drive\n",
        "from google.colab import drive\n",
        "drive.mount('/gdrive')\n",
        "%cd /gdrive"
      ],
      "metadata": {
        "colab": {
          "base_uri": "https://localhost:8080/"
        },
        "id": "cBZmwDsqKMP7",
        "outputId": "a0786063-312f-43ea-c1d5-a737d8a78c9b"
      },
      "execution_count": 3,
      "outputs": [
        {
          "output_type": "stream",
          "name": "stdout",
          "text": [
            "Mounted at /gdrive\n",
            "/gdrive\n"
          ]
        }
      ]
    },
    {
      "cell_type": "code",
      "source": [
        "# @title Corro mi archivo de funciones auxiliares para gráficar vectores\n",
        "%run '/content/drive/MyDrive/Colab Notebooks/Curso de Alg Lineal/funciones_auxiliares/graficarVectores.ipynb'"
      ],
      "metadata": {
        "id": "_Jkf6ynzJ8Uw"
      },
      "execution_count": 5,
      "outputs": []
    },
    {
      "cell_type": "code",
      "source": [
        "# @title Set colors for charts\n",
        "orange_ligth = '#FF9A13'\n",
        "blue_ligth = '#1190FF'"
      ],
      "metadata": {
        "id": "yMDsdN5MK0gp"
      },
      "execution_count": 29,
      "outputs": []
    },
    {
      "cell_type": "code",
      "source": [
        "# @title Set and show matrix\n",
        "X = np.array([[3, 2], [4, 1]])\n",
        "print(X)"
      ],
      "metadata": {
        "colab": {
          "base_uri": "https://localhost:8080/"
        },
        "id": "UI_X2g1-LLFb",
        "outputId": "31aca0ea-44a9-4810-b22a-baaa00f0cd27"
      },
      "execution_count": 9,
      "outputs": [
        {
          "output_type": "stream",
          "name": "stdout",
          "text": [
            "[[3 2]\n",
            " [4 1]]\n"
          ]
        }
      ]
    },
    {
      "cell_type": "code",
      "source": [
        "# @title Set a vector\n",
        "v = np.array([[1], [1]])\n",
        "print(v)"
      ],
      "metadata": {
        "colab": {
          "base_uri": "https://localhost:8080/"
        },
        "id": "gOgrgwGWLb7E",
        "outputId": "05380b8d-94d0-41ef-fbdd-8b55d60d2148"
      },
      "execution_count": 10,
      "outputs": [
        {
          "output_type": "stream",
          "name": "stdout",
          "text": [
            "[[1]\n",
            " [1]]\n"
          ]
        }
      ]
    },
    {
      "cell_type": "markdown",
      "source": [
        "*Vector que cuando le apliquemos la matriz siga siendo el mismo vector, incluso si esto fuera un multiplo del vector original*"
      ],
      "metadata": {
        "id": "ZvqphDGDLxtJ"
      }
    },
    {
      "cell_type": "markdown",
      "source": [
        "Para transformar nuestro vector aplicamos el producto interno de \"X\" a nuestro vectro original \"v\""
      ],
      "metadata": {
        "id": "xamWYNhnMAZV"
      }
    },
    {
      "cell_type": "code",
      "source": [
        "# @title Transform my vector\n",
        "u = X.dot(v)\n",
        "print(u)"
      ],
      "metadata": {
        "colab": {
          "base_uri": "https://localhost:8080/"
        },
        "id": "16YpbBc8MJeh",
        "outputId": "4ab4d567-f046-422f-c7be-e53e55dbe95b"
      },
      "execution_count": 11,
      "outputs": [
        {
          "output_type": "stream",
          "name": "stdout",
          "text": [
            "[[5]\n",
            " [5]]\n"
          ]
        }
      ]
    },
    {
      "cell_type": "code",
      "source": [
        "# @title Show my vectors\n",
        "graficarVectores([u.flatten(), v.flatten()], [orange_ligth, blue_ligth])\n",
        "\n",
        "plt.xlim(-1,6)\n",
        "plt.ylim(-1,6)"
      ],
      "metadata": {
        "colab": {
          "base_uri": "https://localhost:8080/",
          "height": 452
        },
        "id": "0Ep27WGfMSL0",
        "outputId": "0111615f-9c13-4be4-9865-c13b6155aaa9"
      },
      "execution_count": 15,
      "outputs": [
        {
          "output_type": "execute_result",
          "data": {
            "text/plain": [
              "(-1.0, 6.0)"
            ]
          },
          "metadata": {},
          "execution_count": 15
        },
        {
          "output_type": "display_data",
          "data": {
            "text/plain": [
              "<Figure size 640x480 with 1 Axes>"
            ],
            "image/png": "[encoded data removed]"
          },
          "metadata": {}
        }
      ]
    },
    {
      "cell_type": "markdown",
      "source": [
        "**Lectura:**\n",
        "\n",
        "Nuestro vector original fue expanddo al transformarlo con X. No es el mismo vector. Nuestro autovector y autovalor es el autovector = 5."
      ],
      "metadata": {
        "id": "tEyVONjtMuFn"
      }
    },
    {
      "cell_type": "code",
      "source": [
        "# @title Show the autovector\n",
        "lambda_1 = 5\n",
        "lambda_1 * v"
      ],
      "metadata": {
        "colab": {
          "base_uri": "https://localhost:8080/"
        },
        "id": "ojjGDS_SNftO",
        "outputId": "24b1d431-b0b1-4f83-e5fa-04a29adaa3cd"
      },
      "execution_count": 20,
      "outputs": [
        {
          "output_type": "execute_result",
          "data": {
            "text/plain": [
              "array([[5],\n",
              "       [5]])"
            ]
          },
          "metadata": {},
          "execution_count": 20
        }
      ]
    },
    {
      "cell_type": "markdown",
      "source": [
        "Un autovector es aquel que cuando le aplico una matriz me devuelve el vector con la misma dirección pero puede tener una amplitud distinta. O sea, puede estar multiplicado por el autovalor. Veamos que este valor no es único. Definamos el vector \"s\" y veamos que tiene la misma propiedad."
      ],
      "metadata": {
        "id": "Bv8cqRQXN-hN"
      }
    },
    {
      "cell_type": "code",
      "source": [
        "s = np.array([[-1], [2]])\n",
        "print(s)"
      ],
      "metadata": {
        "colab": {
          "base_uri": "https://localhost:8080/"
        },
        "id": "gFyb5NRROlkO",
        "outputId": "18cd3d9b-48d9-450d-c903-c7e2568b83de"
      },
      "execution_count": 24,
      "outputs": [
        {
          "output_type": "stream",
          "name": "stdout",
          "text": [
            "[[-1]\n",
            " [ 2]]\n"
          ]
        }
      ]
    },
    {
      "cell_type": "code",
      "source": [
        "t = X.dot(s)\n",
        "print(t)"
      ],
      "metadata": {
        "colab": {
          "base_uri": "https://localhost:8080/"
        },
        "id": "3v7Za2cVOr2X",
        "outputId": "7d80e1ee-f315-4389-979b-7ec107b70b20"
      },
      "execution_count": 26,
      "outputs": [
        {
          "output_type": "stream",
          "name": "stdout",
          "text": [
            "[[ 1]\n",
            " [-2]]\n"
          ]
        }
      ]
    },
    {
      "cell_type": "markdown",
      "source": [
        "¿Que es lo que está ocurriendo en este caso entonces? **Está siendo multiplicado por \"-1\"**.\n",
        "\n",
        "Grafiquemos"
      ],
      "metadata": {
        "id": "mkuLmsyeO3Ge"
      }
    },
    {
      "cell_type": "code",
      "source": [
        "graficar_vectores([s.flatten(), t.flatten()], [orange_ligth, blue_ligth])\n",
        "\n",
        "plt.xlim(-3,3)\n",
        "plt.ylim(-3,3)"
      ],
      "metadata": {
        "colab": {
          "base_uri": "https://localhost:8080/",
          "height": 452
        },
        "id": "GhZUQKYDO-cr",
        "outputId": "75e5a112-baff-471c-cf16-4af87d5fbddb"
      },
      "execution_count": 33,
      "outputs": [
        {
          "output_type": "execute_result",
          "data": {
            "text/plain": [
              "(-3.0, 3.0)"
            ]
          },
          "metadata": {},
          "execution_count": 33
        },
        {
          "output_type": "display_data",
          "data": {
            "text/plain": [
              "<Figure size 640x480 with 1 Axes>"
            ],
            "image/png": "[encoded data removed]"
          },
          "metadata": {}
        }
      ]
    },
    {
      "cell_type": "markdown",
      "source": [
        "¿Que está ocurriendo? **La dirreción se mantiene pero cambia el sentido en el que está apuntando el vector.**\n",
        "\n",
        "*Los autovectores pueden variar en amplitud o en sentido, pero la dirección se mantiene.*"
      ],
      "metadata": {
        "id": "wmgn420_Pxph"
      }
    },
    {
      "cell_type": "markdown",
      "source": [
        "# Material complementario"
      ],
      "metadata": {
        "id": "uyrO_yEROhs8"
      }
    },
    {
      "cell_type": "code",
      "source": [
        "# @title Show the determinante de mi matriz X.\n",
        "print(np.linalg.det(X))"
      ],
      "metadata": {
        "colab": {
          "base_uri": "https://localhost:8080/"
        },
        "id": "yOtSiHdBNKLU",
        "outputId": "abcf4548-b081-4a90-b766-3bf3892ae388"
      },
      "execution_count": 21,
      "outputs": [
        {
          "output_type": "stream",
          "name": "stdout",
          "text": [
            "-4.999999999999999\n"
          ]
        }
      ]
    },
    {
      "cell_type": "code",
      "source": [
        "# @title Show the norm of my vectors\n",
        "print(np.linalg.norm(v))\n",
        "print(np.linalg.norm(u))"
      ],
      "metadata": {
        "colab": {
          "base_uri": "https://localhost:8080/"
        },
        "id": "o1Vruf1VNZGr",
        "outputId": "a783e7ee-be4b-4b62-f5f2-3a4d96973494"
      },
      "execution_count": 22,
      "outputs": [
        {
          "output_type": "stream",
          "name": "stdout",
          "text": [
            "1.4142135623730951\n",
            "7.0710678118654755\n"
          ]
        }
      ]
    }
  ]
}